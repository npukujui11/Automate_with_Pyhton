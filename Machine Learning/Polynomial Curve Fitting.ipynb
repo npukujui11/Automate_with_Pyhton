{
 "cells": [
  {
   "cell_type": "code",
   "execution_count": 5,
   "metadata": {},
   "outputs": [],
   "source": [
    "import numpy as np\n",
    "import matplotlib.pyplot as plt"
   ]
  },
  {
   "cell_type": "code",
   "execution_count": 6,
   "metadata": {},
   "outputs": [
    {
     "data": {
      "text/plain": [
       "<matplotlib.legend.Legend at 0x26156ed7520>"
      ]
     },
     "execution_count": 6,
     "metadata": {},
     "output_type": "execute_result"
    },
    {
     "data": {
      "image/png": "[encoded data removed]",
      "text/plain": [
       "<Figure size 432x288 with 1 Axes>"
      ]
     },
     "metadata": {
      "needs_background": "light"
     },
     "output_type": "display_data"
    }
   ],
   "source": [
    "np.random.seed(1234)\n",
    "def create_toy_data(func, sample_size, std):\n",
    "        x = np.linspace(0, 1, sample_size)\n",
    "        t = func(x) + np.random.normal(scale=std, size=x.shape)\n",
    "        return x, t\n",
    "\n",
    "func = lambda x : np.sin(2 * np.pi * x)\n",
    "\n",
    "x_train, t_train =  create_toy_data(func, 10, 0.25)\n",
    "x_test = np.linspace(0, 1, 100)\n",
    "t_test = func(x_test)\n",
    "plt.scatter(x_train, t_train, facecolor=\"none\", edgecolor= \"b\", s = 50, label = \"training data\")\n",
    "plt.plot(x_test, t_test, c=\"g\", label = \"$\\sin(2\\pi x)$\")\n",
    "plt.legend()"
   ]
  },
  {
   "cell_type": "code",
   "execution_count": null,
   "metadata": {},
   "outputs": [],
   "source": [
    "import numpy as np\n",
    "import matplotlib.pyplot as plt\n",
    "import itertools\n",
    "import functools\n"
   ]
  },
  {
   "cell_type": "code",
   "execution_count": null,
   "metadata": {},
   "outputs": [],
   "source": [
    "def create_toy_data(func, sample_size, std):"
   ]
  },
  {
   "cell_type": "code",
   "execution_count": 2,
   "metadata": {},
   "outputs": [],
   "source": [
    "def transform(degree, x):\n",
    "    if x.ndim == 1:\n",
    "        x = x[:, None]\n",
    "        x_t = x.transpose()\n",
    "        features = [np.ones(len(x))]\n",
    "    for degree in range(1, degree + 1):\n",
    "        for items in itertools.combinations_with_replacement(x_t, degree):\n",
    "            features.append(functools.reduce(lambda x, y: x * y, items))\n",
    "    return np.asarray(features).transpose()"
   ]
  },
  {
   "cell_type": "code",
   "execution_count": 4,
   "metadata": {},
   "outputs": [
    {
     "ename": "NameError",
     "evalue": "name 'np' is not defined",
     "output_type": "error",
     "traceback": [
      "\u001b[1;31m---------------------------------------------------------------------------\u001b[0m",
      "\u001b[1;31mNameError\u001b[0m                                 Traceback (most recent call last)",
      "\u001b[1;32md:\\program\\Automate_with_Pyhton\\Machine Learning\\Polynomial Curve Fitting.ipynb Cell 4\u001b[0m in \u001b[0;36m<cell line: 1>\u001b[1;34m()\u001b[0m\n\u001b[1;32m----> <a href='vscode-notebook-cell:/d%3A/program/Automate_with_Pyhton/Machine%20Learning/Polynomial%20Curve%20Fitting.ipynb#W3sZmlsZQ%3D%3D?line=0'>1</a>\u001b[0m \u001b[39mclass\u001b[39;00m \u001b[39mLinearRegression\u001b[39;00m(\u001b[39mobject\u001b[39m):\n\u001b[0;32m      <a href='vscode-notebook-cell:/d%3A/program/Automate_with_Pyhton/Machine%20Learning/Polynomial%20Curve%20Fitting.ipynb#W3sZmlsZQ%3D%3D?line=1'>2</a>\u001b[0m     \u001b[39mdef\u001b[39;00m \u001b[39mfit\u001b[39m(\u001b[39mself\u001b[39m, X:np\u001b[39m.\u001b[39mndarray, t:np\u001b[39m.\u001b[39mndarray):\n\u001b[0;32m      <a href='vscode-notebook-cell:/d%3A/program/Automate_with_Pyhton/Machine%20Learning/Polynomial%20Curve%20Fitting.ipynb#W3sZmlsZQ%3D%3D?line=2'>3</a>\u001b[0m         \u001b[39mself\u001b[39m\u001b[39m.\u001b[39mw \u001b[39m=\u001b[39m np\u001b[39m.\u001b[39mlinalg\u001b[39m.\u001b[39mpinv(X) \u001b[39m@\u001b[39m t\n",
      "\u001b[1;32md:\\program\\Automate_with_Pyhton\\Machine Learning\\Polynomial Curve Fitting.ipynb Cell 4\u001b[0m in \u001b[0;36mLinearRegression\u001b[1;34m()\u001b[0m\n\u001b[0;32m      <a href='vscode-notebook-cell:/d%3A/program/Automate_with_Pyhton/Machine%20Learning/Polynomial%20Curve%20Fitting.ipynb#W3sZmlsZQ%3D%3D?line=0'>1</a>\u001b[0m \u001b[39mclass\u001b[39;00m \u001b[39mLinearRegression\u001b[39;00m(\u001b[39mobject\u001b[39m):\n\u001b[1;32m----> <a href='vscode-notebook-cell:/d%3A/program/Automate_with_Pyhton/Machine%20Learning/Polynomial%20Curve%20Fitting.ipynb#W3sZmlsZQ%3D%3D?line=1'>2</a>\u001b[0m     \u001b[39mdef\u001b[39;00m \u001b[39mfit\u001b[39m(\u001b[39mself\u001b[39m, X:np\u001b[39m.\u001b[39mndarray, t:np\u001b[39m.\u001b[39mndarray):\n\u001b[0;32m      <a href='vscode-notebook-cell:/d%3A/program/Automate_with_Pyhton/Machine%20Learning/Polynomial%20Curve%20Fitting.ipynb#W3sZmlsZQ%3D%3D?line=2'>3</a>\u001b[0m         \u001b[39mself\u001b[39m\u001b[39m.\u001b[39mw \u001b[39m=\u001b[39m np\u001b[39m.\u001b[39mlinalg\u001b[39m.\u001b[39mpinv(X) \u001b[39m@\u001b[39m t\n\u001b[0;32m      <a href='vscode-notebook-cell:/d%3A/program/Automate_with_Pyhton/Machine%20Learning/Polynomial%20Curve%20Fitting.ipynb#W3sZmlsZQ%3D%3D?line=3'>4</a>\u001b[0m         \u001b[39mself\u001b[39m\u001b[39m.\u001b[39mvar \u001b[39m=\u001b[39m np\u001b[39m.\u001b[39mmean(np\u001b[39m.\u001b[39msquare(X \u001b[39m@\u001b[39m \u001b[39mself\u001b[39m\u001b[39m.\u001b[39mw \u001b[39m-\u001b[39m t))\n",
      "\u001b[1;31mNameError\u001b[0m: name 'np' is not defined"
     ]
    }
   ],
   "source": []
  },
  {
   "cell_type": "code",
   "execution_count": null,
   "metadata": {},
   "outputs": [],
   "source": []
  }
 ],
 "metadata": {
  "kernelspec": {
   "display_name": "Python 3.10.0 64-bit",
   "language": "python",
   "name": "python3"
  },
  "language_info": {
   "codemirror_mode": {
    "name": "ipython",
    "version": 3
   },
   "file_extension": ".py",
   "mimetype": "text/x-python",
   "name": "python",
   "nbconvert_exporter": "python",
   "pygments_lexer": "ipython3",
   "version": "3.10.0"
  },
  "orig_nbformat": 4,
  "vscode": {
   "interpreter": {
    "hash": "6c2663eb7d701d91a231094abedbc1e6b97d6b2a7a29dcd42c024da467322577"
   }
  }
 },
 "nbformat": 4,
 "nbformat_minor": 2
}
