{
 "nbformat": 4,
 "nbformat_minor": 2,
 "metadata": {
  "language_info": {
   "name": "python",
   "codemirror_mode": {
    "name": "ipython",
    "version": 3
   },
   "version": "3.6.0-final"
  },
  "orig_nbformat": 2,
  "file_extension": ".py",
  "mimetype": "text/x-python",
  "name": "python",
  "npconvert_exporter": "python",
  "pygments_lexer": "ipython3",
  "version": 3,
  "kernelspec": {
   "name": "python36064bit978e08e547a1493cbc397d47a179a6b3",
   "display_name": "Python 3.6.0 64-bit"
  }
 },
 "cells": [
  {
   "cell_type": "code",
   "execution_count": 1,
   "metadata": {},
   "outputs": [],
   "source": [
    "import requests\n",
    "import pyecharts \n",
    "from pyecharts.charts import * \n",
    "from pyecharts import options as opts \n",
    "from pyecharts.commons.utils import JsCode \n",
    "from datetime import date, datetime\n",
    "import datetime\n",
    "\n",
    "url = 'https://lab.isaaclin.cn/nCoV/api/area'\n",
    "data = requests.get(url).json()\n",
    "\n",
    "# 生成更新日期\n",
    "update_date = date.today()"
   ]
  },
  {
   "cell_type": "code",
   "execution_count": 2,
   "metadata": {},
   "outputs": [
    {
     "data": {
      "text/html": "\n<script>\n    require.config({\n        paths: {\n            'echarts':'https://assets.pyecharts.org/assets/echarts.min', 'world':'https://assets.pyecharts.org/assets/maps/world'\n        }\n    });\n</script>\n\n        <div id=\"6466be74446b4c04acd70ef7e84ea7ec\" style=\"width:400; height:500px;\"></div>\n\n<script>\n        require(['echarts', 'world'], function(echarts) {\n                var chart_6466be74446b4c04acd70ef7e84ea7ec = echarts.init(\n                    document.getElementById('6466be74446b4c04acd70ef7e84ea7ec'), 'dark', {renderer: 'canvas'});\n                var option_6466be74446b4c04acd70ef7e84ea7ec = {\n    \"animation\": true,\n    \"animationThreshold\": 2000,\n    \"animationDuration\": 1000,\n    \"animationEasing\": \"cubicOut\",\n    \"animationDelay\": 0,\n    \"animationDurationUpdate\": 300,\n    \"animationEasingUpdate\": \"cubicOut\",\n    \"animationDelayUpdate\": 0,\n    \"series\": [\n        {\n            \"type\": \"map\",\n            \"name\": \"\\u7d2f\\u8ba1\\u786e\\u8bca\\u4eba\\u6570\",\n            \"label\": {\n                \"show\": false,\n                \"position\": \"top\",\n                \"margin\": 8\n            },\n            \"mapType\": \"world\",\n            \"data\": [\n                {\n                    \"name\": \"China\",\n                    \"value\": 758\n                },\n                {\n                    \"name\": \"China\",\n                    \"value\": 576\n                },\n                {\n                    \"name\": \"Moldova\",\n                    \"value\": 1\n                },\n                {\n                    \"name\": \"Bulgaria\",\n                    \"value\": 2\n                },\n                {\n                    \"name\": \"China\",\n                    \"value\": 67743\n                },\n                {\n                    \"name\": \"Germany\",\n                    \"value\": 902\n                },\n                {\n                    \"name\": \"Vietnam\",\n                    \"value\": 21\n                },\n                {\n                    \"name\": \"Japan\",\n                    \"value\": 494\n                },\n                {\n                    \"name\": \"Kampuchea (Cambodia )\",\n                    \"value\": 2\n                },\n                {\n                    \"name\": \"Romania\",\n                    \"value\": 15\n                },\n                {\n                    \"name\": \"Peru\",\n                    \"value\": 6\n                },\n                {\n                    \"name\": \"Czech Republic\",\n                    \"value\": 32\n                },\n                {\n                    \"name\": \"Malta\",\n                    \"value\": 1\n                },\n                {\n                    \"name\": \"Portugal\",\n                    \"value\": 30\n                },\n                {\n                    \"name\": \"Belgium\",\n                    \"value\": 169\n                },\n                {\n                    \"name\": \"United States\",\n                    \"value\": 572\n                },\n                {\n                    \"name\": \"Philippines\",\n                    \"value\": 10\n                },\n                {\n                    \"name\": \"Netherlands\",\n                    \"value\": 188\n                },\n                {\n                    \"name\": \"Saudi Arabia\",\n                    \"value\": 7\n                },\n                {\n                    \"name\": \"North Macedonia\",\n                    \"value\": 3\n                },\n                {\n                    \"name\": \"Australia\",\n                    \"value\": 83\n                },\n                {\n                    \"name\": \"Bahrain\",\n                    \"value\": 77\n                },\n                {\n                    \"name\": \"Slovakia\",\n                    \"value\": 5\n                },\n                {\n                    \"name\": \"Argentina\",\n                    \"value\": 12\n                },\n                {\n                    \"name\": \"Mexico\",\n                    \"value\": 7\n                },\n                {\n                    \"name\": \"Russia\",\n                    \"value\": 10\n                },\n                {\n                    \"name\": \"Canada\",\n                    \"value\": 66\n                },\n                {\n                    \"name\": \"Israel\",\n                    \"value\": 39\n                },\n                {\n                    \"name\": \"Maldives\",\n                    \"value\": 4\n                },\n                {\n                    \"name\": \"India\",\n                    \"value\": 39\n                },\n                {\n                    \"name\": \"South Africa\",\n                    \"value\": 2\n                },\n                {\n                    \"name\": \"Austria\",\n                    \"value\": 102\n                },\n                {\n                    \"name\": \"Finland\",\n                    \"value\": 25\n                },\n                {\n                    \"name\": \"Ireland\",\n                    \"value\": 21\n                },\n                {\n                    \"name\": \"San Marino\",\n                    \"value\": 36\n                },\n                {\n                    \"name\": \"Croatia\",\n                    \"value\": 12\n                },\n                {\n                    \"name\": \"Iraq\",\n                    \"value\": 61\n                },\n                {\n                    \"name\": \"Egypt\",\n                    \"value\": 55\n                },\n                {\n                    \"name\": \"Algeria\",\n                    \"value\": 19\n                },\n                {\n                    \"name\": \"Luxembourg\",\n                    \"value\": 5\n                },\n                {\n                    \"name\": \"Iran\",\n                    \"value\": 6566\n                },\n                {\n                    \"name\": \"Lebanon\",\n                    \"value\": 32\n                },\n                {\n                    \"name\": \"Singapore\",\n                    \"value\": 138\n                },\n                {\n                    \"name\": \"Latvia\",\n                    \"value\": 2\n                },\n                {\n                    \"name\": \"Spain\",\n                    \"value\": 589\n                },\n                {\n                    \"name\": \"Paraguay\",\n                    \"value\": 1\n                },\n                {\n                    \"name\": \"Georgia\",\n                    \"value\": 13\n                },\n                {\n                    \"name\": \"Poland\",\n                    \"value\": 8\n                },\n                {\n                    \"name\": \"France\",\n                    \"value\": 1126\n                },\n                {\n                    \"name\": \"Slovenia\",\n                    \"value\": 16\n                },\n                {\n                    \"name\": \"Afghanistan\",\n                    \"value\": 4\n                },\n                {\n                    \"name\": \"Hungary\",\n                    \"value\": 7\n                },\n                {\n                    \"name\": \"Iceland\",\n                    \"value\": 55\n                },\n                {\n                    \"name\": \"Pakistan\",\n                    \"value\": 6\n                },\n                {\n                    \"name\": \"Sweden\",\n                    \"value\": 161\n                },\n                {\n                    \"name\": \"United Arab Emirates\",\n                    \"value\": 45\n                },\n                {\n                    \"name\": \"New Zealand\",\n                    \"value\": 5\n                },\n                {\n                    \"name\": \"Chile\",\n                    \"value\": 8\n                },\n                {\n                    \"name\": \"Greece\",\n                    \"value\": 66\n                },\n                {\n                    \"name\": \"Korea\",\n                    \"value\": 7382\n                },\n                {\n                    \"name\": \"Brazil\",\n                    \"value\": 25\n                },\n                {\n                    \"name\": \"Thailand\",\n                    \"value\": 50\n                },\n                {\n                    \"name\": \"Switzerland\",\n                    \"value\": 228\n                },\n                {\n                    \"name\": \"Norway\",\n                    \"value\": 169\n                },\n                {\n                    \"name\": \"Malaysia\",\n                    \"value\": 93\n                },\n                {\n                    \"name\": \"Italy\",\n                    \"value\": 7375\n                },\n                {\n                    \"name\": \"China\",\n                    \"value\": 1215\n                },\n                {\n                    \"name\": \"Qatar\",\n                    \"value\": 11\n                },\n                {\n                    \"name\": \"Denmark\",\n                    \"value\": 35\n                },\n                {\n                    \"name\": \"United Kingdom\",\n                    \"value\": 206\n                },\n                {\n                    \"name\": \"Senegal\",\n                    \"value\": 4\n                },\n                {\n                    \"name\": \"Togo\",\n                    \"value\": 1\n                },\n                {\n                    \"name\": \"Indonesia\",\n                    \"value\": 4\n                },\n                {\n                    \"name\": \"Costa Rica\",\n                    \"value\": 1\n                },\n                {\n                    \"name\": \"Oman\",\n                    \"value\": 16\n                },\n                {\n                    \"name\": \"Cameroon\",\n                    \"value\": 2\n                },\n                {\n                    \"name\": \"Ecuador\",\n                    \"value\": 13\n                },\n                {\n                    \"name\": \"Kuwait\",\n                    \"value\": 58\n                },\n                {\n                    \"name\": \"Estonia\",\n                    \"value\": 10\n                },\n                {\n                    \"name\": \"Colombia\",\n                    \"value\": 1\n                },\n                {\n                    \"name\": \"China\",\n                    \"value\": 1018\n                },\n                {\n                    \"name\": \"China\",\n                    \"value\": 114\n                },\n                {\n                    \"name\": \"China\",\n                    \"value\": 45\n                },\n                {\n                    \"name\": \"China\",\n                    \"value\": 481\n                },\n                {\n                    \"name\": \"China\",\n                    \"value\": 428\n                },\n                {\n                    \"name\": \"China\",\n                    \"value\": 342\n                },\n                {\n                    \"name\": \"China\",\n                    \"value\": 935\n                },\n                {\n                    \"name\": \"China\",\n                    \"value\": 136\n                },\n                {\n                    \"name\": \"China\",\n                    \"value\": 539\n                },\n                {\n                    \"name\": \"China\",\n                    \"value\": 146\n                },\n                {\n                    \"name\": \"China\",\n                    \"value\": 631\n                },\n                {\n                    \"name\": \"China\",\n                    \"value\": 252\n                },\n                {\n                    \"name\": \"China\",\n                    \"value\": 1352\n                },\n                {\n                    \"name\": \"Diamond Princess Cruise Ship\",\n                    \"value\": 696\n                },\n                {\n                    \"name\": \"China\",\n                    \"value\": 245\n                },\n                {\n                    \"name\": \"China\",\n                    \"value\": 124\n                },\n                {\n                    \"name\": \"China\",\n                    \"value\": 76\n                },\n                {\n                    \"name\": \"China\",\n                    \"value\": 125\n                },\n                {\n                    \"name\": \"China\",\n                    \"value\": 1272\n                },\n                {\n                    \"name\": \"China\",\n                    \"value\": 990\n                },\n                {\n                    \"name\": \"China\",\n                    \"value\": 75\n                },\n                {\n                    \"name\": \"China\",\n                    \"value\": 168\n                },\n                {\n                    \"name\": \"Belarus\",\n                    \"value\": 6\n                },\n                {\n                    \"name\": \"China\",\n                    \"value\": 318\n                },\n                {\n                    \"name\": \"China\",\n                    \"value\": 296\n                },\n                {\n                    \"name\": \"China\",\n                    \"value\": 75\n                },\n                {\n                    \"name\": \"China\",\n                    \"value\": 93\n                },\n                {\n                    \"name\": \"China\",\n                    \"value\": 10\n                },\n                {\n                    \"name\": \"China\",\n                    \"value\": 174\n                },\n                {\n                    \"name\": \"Ukraine\",\n                    \"value\": 1\n                },\n                {\n                    \"name\": \"Jordan\",\n                    \"value\": 1\n                },\n                {\n                    \"name\": \"Liechtenstein\",\n                    \"value\": 1\n                },\n                {\n                    \"name\": \"Tunisia\",\n                    \"value\": 1\n                },\n                {\n                    \"name\": \"Morocco\",\n                    \"value\": 1\n                },\n                {\n                    \"name\": \"China\",\n                    \"value\": 133\n                },\n                {\n                    \"name\": \"Andorra\",\n                    \"value\": 1\n                },\n                {\n                    \"name\": \"Monaco\",\n                    \"value\": 1\n                },\n                {\n                    \"name\": \"Nigeria\",\n                    \"value\": 1\n                },\n                {\n                    \"name\": \"Nepal\",\n                    \"value\": 1\n                },\n                {\n                    \"name\": \"Armenia\",\n                    \"value\": 1\n                },\n                {\n                    \"name\": \"SriLanka\",\n                    \"value\": 1\n                },\n                {\n                    \"name\": \"Dominican Republic\",\n                    \"value\": 1\n                },\n                {\n                    \"name\": \"Lithuania\",\n                    \"value\": 1\n                },\n                {\n                    \"name\": \"Azerbaijan\",\n                    \"value\": 3\n                },\n                {\n                    \"name\": \"China\",\n                    \"value\": 18\n                },\n                {\n                    \"name\": \"China\",\n                    \"value\": 1\n                }\n            ],\n            \"roam\": false,\n            \"zoom\": 1,\n            \"showLegendSymbol\": false,\n            \"emphasis\": {},\n            \"rippleEffect\": {\n                \"show\": true,\n                \"brushType\": \"stroke\",\n                \"scale\": 2.5,\n                \"period\": 4\n            }\n        }\n    ],\n    \"legend\": [\n        {\n            \"data\": [\n                \"\\u7d2f\\u8ba1\\u786e\\u8bca\\u4eba\\u6570\"\n            ],\n            \"selected\": {\n                \"\\u7d2f\\u8ba1\\u786e\\u8bca\\u4eba\\u6570\": true\n            },\n            \"show\": false,\n            \"padding\": 5,\n            \"itemGap\": 10,\n            \"itemWidth\": 25,\n            \"itemHeight\": 14\n        }\n    ],\n    \"tooltip\": {\n        \"show\": true,\n        \"trigger\": \"item\",\n        \"triggerOn\": \"mousemove|click\",\n        \"axisPointer\": {\n            \"type\": \"line\"\n        },\n        \"textStyle\": {\n            \"fontSize\": 14\n        },\n        \"borderWidth\": 0\n    },\n    \"title\": [\n        {\n            \"text\": \"\\u65b0\\u578b\\u51a0\\u72b6\\u75c5\\u6bd2\\u5168\\u7403\\u75ab\\u60c5\\u5730\\u56fe\",\n            \"subtext\": \"\\u66f4\\u65b0\\u65e5\\u671f\\uff1a2020-03-09\",\n            \"padding\": 5,\n            \"itemGap\": 10\n        }\n    ],\n    \"visualMap\": {\n        \"show\": true,\n        \"type\": \"continuous\",\n        \"min\": 0,\n        \"max\": 50,\n        \"inRange\": {\n            \"color\": [\n                \"#FFFFE0\",\n                \"#FFFFE0\",\n                \"#FFA07A\",\n                \"#CD5C5C\",\n                \"#8B0000\"\n            ]\n        },\n        \"calculable\": true,\n        \"inverse\": false,\n        \"splitNumber\": 5,\n        \"orient\": \"vertical\",\n        \"showLabel\": true,\n        \"itemWidth\": 20,\n        \"itemHeight\": 140,\n        \"borderWidth\": 0\n    },\n    \"graphic\": [\n        {\n            \"type\": \"group\",\n            \"diffChildrenByName\": false,\n            \"children\": [\n                {\n                    \"type\": \"rect\",\n                    \"$action\": \"merge\",\n                    \"rotation\": 0,\n                    \"left\": \"center\",\n                    \"top\": \"center\",\n                    \"bounding\": \"all\",\n                    \"z\": 100,\n                    \"zlevel\": 0,\n                    \"silent\": false,\n                    \"invisible\": false,\n                    \"ignore\": false,\n                    \"cursor\": \"pointer\",\n                    \"draggable\": false,\n                    \"progressive\": false,\n                    \"width\": 0,\n                    \"height\": 0,\n                    \"shape\": {\n                        \"x\": 0,\n                        \"y\": 0,\n                        \"width\": 200,\n                        \"height\": 50\n                    },\n                    \"style\": {\n                        \"fill\": \"rgba(0,0,0,0.3)\",\n                        \"line_width\": 0\n                    }\n                },\n                {\n                    \"type\": \"text\",\n                    \"$action\": \"merge\",\n                    \"rotation\": 0,\n                    \"left\": \"center\",\n                    \"top\": \"center\",\n                    \"bounding\": \"all\",\n                    \"z\": 100,\n                    \"zlevel\": 0,\n                    \"silent\": false,\n                    \"invisible\": false,\n                    \"ignore\": false,\n                    \"cursor\": \"pointer\",\n                    \"draggable\": false,\n                    \"progressive\": false,\n                    \"width\": 0,\n                    \"height\": 0,\n                    \"style\": {\n                        \"text\": ['\\u94bb\\u77f3\\u53f7\\u90ae\\u8f6e', '\\u7d2f\\u8ba1\\u786e\\u8bca\\u4eba\\u6570\\uff1a696\\u4eba'].join('\\n'),\n                        \"x\": 0,\n                        \"y\": 0,\n                        \"font\": \"bold 16px Microsoft YaHei\",\n                        \"textAlign\": \"left\",\n                        \"fill\": \"#fff\",\n                        \"line_width\": 0\n                    }\n                }\n            ],\n            \"$action\": \"merge\",\n            \"rotation\": 0,\n            \"right\": 150,\n            \"bottom\": 50,\n            \"bounding\": \"raw\",\n            \"z\": 100,\n            \"zlevel\": 0,\n            \"silent\": false,\n            \"invisible\": false,\n            \"ignore\": false,\n            \"cursor\": \"pointer\",\n            \"draggable\": false,\n            \"progressive\": false,\n            \"width\": 0,\n            \"height\": 0\n        }\n    ]\n};\n                chart_6466be74446b4c04acd70ef7e84ea7ec.setOption(option_6466be74446b4c04acd70ef7e84ea7ec);\n        });\n    </script>\n",
      "text/plain": "<pyecharts.render.display.HTML at 0x1663662a908>"
     },
     "execution_count": 2,
     "metadata": {},
     "output_type": "execute_result"
    }
   ],
   "source": [
    "oversea_confirm = []\n",
    "for item in data['results']:\n",
    "    if item['countryEnglishName']:\n",
    "        oversea_confirm.append((item['countryEnglishName'].replace('United States of America', 'United States')\n",
    "                                                          .replace('United Kiongdom', 'United Kingdom'), \n",
    "                                item['confirmedCount']))\n",
    "\n",
    "\n",
    "_map = (\n",
    "        Map(init_opts=opts.InitOpts(theme='dark', width='400'))\n",
    "        .add(\"累计确诊人数\", oversea_confirm, \"world\",is_map_symbol_show=False,  is_roam=False)\n",
    "        .set_series_opts(label_opts=opts.LabelOpts(is_show=False))\n",
    "        .set_global_opts(\n",
    "            title_opts=opts.TitleOpts(title=\"新型冠状病毒全球疫情地图\",\n",
    "                                     subtitle=\"更新日期：{}\".format(update_date)),\n",
    "            legend_opts=opts.LegendOpts(is_show=False),\n",
    "            visualmap_opts=opts.VisualMapOpts(is_show=True, max_=50, \n",
    "                                              is_piecewise=False, \n",
    "                                              range_color=['#FFFFE0', '#FFFFE0', '#FFA07A', '#CD5C5C', '#8B0000']),\n",
    "            graphic_opts=[\n",
    "                    opts.GraphicGroup(\n",
    "                        graphic_item=opts.GraphicItem(\n",
    "                            bounding=\"raw\",\n",
    "                            right=150,\n",
    "                            bottom=50,\n",
    "                            z=100,\n",
    "                        ),\n",
    "                        children=[\n",
    "                            opts.GraphicRect(\n",
    "                                graphic_item=opts.GraphicItem(\n",
    "                                    left=\"center\", top=\"center\", z=100\n",
    "                                ),\n",
    "                                graphic_shape_opts=opts.GraphicShapeOpts(\n",
    "                                    width=200, height=50\n",
    "                                ),\n",
    "                                graphic_basicstyle_opts=opts.GraphicBasicStyleOpts(\n",
    "                                    fill=\"rgba(0,0,0,0.3)\"\n",
    "                                ),\n",
    "                            ),\n",
    "                            opts.GraphicText(\n",
    "                                graphic_item=opts.GraphicItem(\n",
    "                                    left=\"center\", top=\"center\", z=100\n",
    "                                ),\n",
    "                                graphic_textstyle_opts=opts.GraphicTextStyleOpts(\n",
    "                                    text=JsCode(\"['钻石号邮轮', '累计确诊人数：{}人'].join('\\\\n')\"\n",
    "                                                .format(dict(oversea_confirm)['Diamond Princess Cruise Ship'])),\n",
    "                                    font=\"bold 16px Microsoft YaHei\",\n",
    "                                    graphic_basicstyle_opts=opts.GraphicBasicStyleOpts(\n",
    "                                        fill=\"#fff\"\n",
    "                                    ),\n",
    "                                ),\n",
    "                            ),\n",
    "                        ],\n",
    "                    )\n",
    "                ],\n",
    "        )\n",
    "    )\n",
    "\n",
    "_map.render_notebook()"
   ]
  },
  {
   "cell_type": "code",
   "execution_count": null,
   "metadata": {},
   "outputs": [],
   "source": []
  }
 ]
}